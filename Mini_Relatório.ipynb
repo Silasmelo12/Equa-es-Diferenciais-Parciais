{
  "cells": [
    {
      "cell_type": "markdown",
      "metadata": {
        "id": "1FPGq7zuzrLg"
      },
      "source": [
        "# Mini-Relatório\n",
        "\n",
        "Este mini-relatório é um resumo de alguns métodos para a resolução de Equações Diferenciais Ordinárias e Parciais. O proposito deste trabalho é ter um material mais prático e simples para a resolução de problemas que envolve EDO's e EDP's.\n",
        "### Euler\n",
        "vamos iniciar com o Método de Euler Implícito, Método de Euler Explícito e o Método dos trapézios.\n",
        "##### Implícito\n",
        "Para se deduzir o método de *Euler Implícito*, seguimos os seguintes passos: O intervalor $[a,b]$ é dividido em $N$ partes iguais, cada uma de comprimento $h$, formando um conjunto discreto, com $x_0 = a$ e $x_N = b$, $R_N = {x_i = a+ih, i = 0, 1, 2, ..., N}$. Aqui $h = (b-a)/N$.<br />\n",
        "    <p>\n",
        "            Sejam $y_i \\approx y(x_i)$ aproximações para $y(x_i)$, $i = 1, 2, ..., N$ e $y_0 = \\alpha$ . Em cada um dos pontos $x_0, x_1, ..., x_N-1$, aproximamos a equação diferencial $df(x)/dx = g(x)$\n",
        "     </p>"
      ]
    },
    {
      "cell_type": "code",
      "execution_count": null,
      "metadata": {
        "id": "uzV1q3CkzrLj"
      },
      "outputs": [],
      "source": [
        "import math as mat\n",
        "import numpy as np\n",
        "import matplotlib.pyplot as plt\n",
        "import sympy\n",
        "\n",
        "sympy.init_printing()\n",
        "from sympy import *\n",
        "import pylab"
      ]
    },
    {
      "cell_type": "code",
      "execution_count": null,
      "metadata": {
        "id": "2eBFRjfrzrLk"
      },
      "outputs": [],
      "source": [
        "X,Y = sympy.symbols('X,Y')\n",
        "a=X^2"
      ]
    },
    {
      "cell_type": "code",
      "execution_count": null,
      "metadata": {
        "id": "QiImd4YHzrLk"
      },
      "outputs": [],
      "source": [
        "def fun(x,y):\n",
        "    f = -y+x\n",
        "    return f"
      ]
    },
    {
      "cell_type": "code",
      "execution_count": null,
      "metadata": {
        "id": "gpaH8FvHzrLl"
      },
      "outputs": [],
      "source": [
        "#definição do método de Euler explícito\n",
        "def eulerExplicito(x0,y0,T,n):\n",
        "    h    = T/n\n",
        "    x    = np.arange(x0,x0+T,h)\n",
        "    y    = np.zeros(n)\n",
        "    y[0] = y0\n",
        "    \n",
        "    for i in range(0,(n-1)):\n",
        "        y[i+1] = y[i]+h*fun(x[i],y[i])\n",
        "        \n",
        "    return [x,y]"
      ]
    },
    {
      "cell_type": "code",
      "execution_count": null,
      "metadata": {
        "id": "4piJVK_uzrLl"
      },
      "outputs": [],
      "source": [
        "#definição do método de Euler Implícito\n",
        "def eulerImplicito(x0,y0,T,n):\n",
        "    h    = T/n\n",
        "    x    = np.arange(x0,x0+T,h)\n",
        "    y    = np.zeros(n)\n",
        "    y[0] = y0\n",
        "    for i in range(0,n-1):\n",
        "        y[i+1] =y[i]+h*fun(x[i],y[i])\n",
        "        y[i+1] =y[i]+h*fun(x[i+1],y[i+1])\n",
        "    return [x,y]"
      ]
    },
    {
      "cell_type": "code",
      "execution_count": null,
      "metadata": {
        "id": "8AS2iOj2zrLm"
      },
      "outputs": [],
      "source": [
        "#definição do método dos trapézios\n",
        "def trapezios(x0,y0,T,n):\n",
        "    h    = T/n\n",
        "    x    = np.arange(x0,x0+T,h)\n",
        "    y    = np.zeros(n)\n",
        "    y[0] = y0\n",
        "    for i in range(0,n-1):\n",
        "        y[i+1] =y[i]+h*fun(x[i],y[i])\n",
        "        y[i+1] =y[i]+(h/2)*(fun(x[i],y[i])+fun(x[i+1],y[i+1]))\n",
        "    return [x,y]"
      ]
    },
    {
      "cell_type": "code",
      "execution_count": null,
      "metadata": {
        "id": "jUZOdT8AzrLm"
      },
      "outputs": [],
      "source": [
        "x0 = 0\n",
        "y0 = 1\n",
        "T = 1\n",
        "n = 10\n",
        "[xe,ye] = eulerExplicito(x0,y0,T,n)\n",
        "[xi,yi] = eulerImplicito(x0,y0,T,n)\n",
        "[xt,yt] = trapezios(x0,y0,T,n)"
      ]
    },
    {
      "cell_type": "code",
      "execution_count": null,
      "metadata": {
        "id": "AQ5aSxeBzrLm",
        "outputId": "c3add187-0c72-47a5-e0bf-3b69f555365f"
      },
      "outputs": [
        {
          "data": {
            "image/png": "[encoded data removed]",
            "text/plain": [
              "<Figure size 432x288 with 1 Axes>"
            ]
          },
          "metadata": {},
          "output_type": "display_data"
        }
      ],
      "source": [
        "plt.scatter(xe, ye, label='Explicito')\n",
        "plt.scatter(xi, yi, label='Implicito')\n",
        "plt.scatter(xt, yt, label='trapezios')\n",
        "a = X-1+2*sympy.exp(-X)\n",
        "YY = xe-1+2*np.exp(-xe)\n",
        "plt.plot(xi, YY, label='Exata')\n",
        "#sympy.plot(a,(X,x0,T),)\n",
        "plt.title('Comparações entre dos métodos implicito e explico de Euler com a solução exata do PVI')\n",
        "plt.legend();"
      ]
    },
    {
      "cell_type": "markdown",
      "metadata": {
        "id": "O_g44CHvzrLn"
      },
      "source": [
        "### Método das diferênças finitas"
      ]
    },
    {
      "cell_type": "code",
      "execution_count": null,
      "metadata": {
        "id": "-cG_aNx9zrLn"
      },
      "outputs": [],
      "source": [
        "# definição do método das diferênças finitas\n",
        "def MDF(u0,un,a,b,n):\n",
        "    \n",
        "    h    = (b-a)/n\n",
        "    x    = np.arange(a,b,h)\n",
        "    u    = b = np.zeros(n)\n",
        "    u[0] = u0\n",
        "    A          = np.zeros((n,n))\n",
        "    \n",
        "    A[0,0]     = 1\n",
        "    A[n-1,n-1] = 1\n",
        "    \n",
        "    for i in range(1,n-1):\n",
        "        b[i]    = -100*h**2*(x[i]-1)**2\n",
        "        A[i,i-1] = 1\n",
        "        A[i,i]   = -2\n",
        "        A[i,i+1] = 1\n",
        "        \n",
        "    b[0]       = u0\n",
        "    b[n-1]     = un\n",
        "    A_inv = np.linalg.inv(A)\n",
        "    u = np.dot(A_inv,b)\n",
        "    return [x,u]"
      ]
    },
    {
      "cell_type": "code",
      "execution_count": null,
      "metadata": {
        "id": "8-ZMZQxrzrLo",
        "outputId": "1c489225-b0cd-4c02-bbc9-d99c0ffdc460"
      },
      "outputs": [
        {
          "data": {
            "image/png": "[encoded data removed]",
            "text/plain": [
              "<Figure size 432x288 with 1 Axes>"
            ]
          },
          "metadata": {},
          "output_type": "display_data"
        }
      ],
      "source": [
        "[x,y] = MDF(0,0,0,1,30)\n",
        "s     = (-100/12)*(x-1)**4-(100/12)*x+100/12\n",
        "plt.plot(x, s, label = 'exata', color = 'black')\n",
        "plt.scatter(x, y, label = 'MDF', color = 'green')\n",
        "plt.legend()\n",
        "plt.title('MDF');"
      ]
    },
    {
      "cell_type": "code",
      "execution_count": null,
      "metadata": {
        "id": "Z2wEPm-HzrLo"
      },
      "outputs": [],
      "source": []
    }
  ],
  "metadata": {
    "kernelspec": {
      "display_name": "Python 3",
      "language": "python",
      "name": "python3"
    },
    "language_info": {
      "codemirror_mode": {
        "name": "ipython",
        "version": 3
      },
      "file_extension": ".py",
      "mimetype": "text/x-python",
      "name": "python",
      "nbconvert_exporter": "python",
      "pygments_lexer": "ipython3",
      "version": "3.6.5"
    },
    "colab": {
      "provenance": []
    }
  },
  "nbformat": 4,
  "nbformat_minor": 0
}